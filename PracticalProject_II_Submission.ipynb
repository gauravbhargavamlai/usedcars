{
  "nbformat": 4,
  "nbformat_minor": 0,
  "metadata": {
    "colab": {
      "provenance": [],
      "authorship_tag": "ABX9TyNXREZ1uJHw2vAgQ6WsdMa6"
    },
    "kernelspec": {
      "name": "python3",
      "display_name": "Python 3"
    },
    "language_info": {
      "name": "python"
    }
  },
  "cells": [
    {
      "cell_type": "code",
      "execution_count": 1,
      "metadata": {
        "id": "VWT_Iht5px7d"
      },
      "outputs": [],
      "source": [
        "import pandas as pd\n",
        "import numpy as np\n",
        "import matplotlib.pyplot as plt\n",
        "import seaborn as sns\n",
        "from sklearn.model_selection import GridSearchCV, train_test_split\n",
        "from sklearn.pipeline import Pipeline, make_pipeline\n",
        "from sklearn.compose import ColumnTransformer\n",
        "from sklearn.impute import SimpleImputer\n",
        "from sklearn.preprocessing import OneHotEncoder, OrdinalEncoder, StandardScaler, PolynomialFeatures, LabelEncoder\n",
        "from sklearn.linear_model import Lasso, LinearRegression\n",
        "from sklearn.feature_selection import SelectFromModel, mutual_info_regression, f_classif\n",
        "from sklearn.metrics import mean_squared_error, r2_score\n",
        "from google.colab import drive\n",
        "from sklearn.feature_selection import SequentialFeatureSelector\n",
        "import warnings\n",
        "warnings.filterwarnings(\"ignore\")\n"
      ]
    },
    {
      "cell_type": "code",
      "source": [
        "drive.mount('/content/drive')\n",
        "\n",
        "# Load the dataset\n",
        "df = pd.read_csv(\"/content/drive/MyDrive/BerkelyMLCourse/Colab/practical_application_II_starter/data/vehicles.csv\")\n",
        "# Path to your desired folder in Google Drive\n",
        "save_path = '/content/drive/MyDrive/BerkelyMLCourse/Colab/practical_application_II_starter/images'\n"
      ],
      "metadata": {
        "colab": {
          "base_uri": "https://localhost:8080/"
        },
        "id": "4SgTjan3toNq",
        "outputId": "18392121-7025-4b5e-ea88-d916585abfbe"
      },
      "execution_count": 2,
      "outputs": [
        {
          "output_type": "stream",
          "name": "stdout",
          "text": [
            "Mounted at /content/drive\n"
          ]
        }
      ]
    },
    {
      "cell_type": "markdown",
      "source": [
        "## Business Understanding\n",
        "\n",
        "We are translating the goal of understanding what drives used car prices into a predictive analytics problem. Using a dataset of used car listings, we will apply regression modeling—to estimate car prices based on attributes like year, mileage, condition, and brand. Along the way, we’ll use techniques such as feature importance analysis and model interpretation to identify which variables have the strongest influence on pricing."
      ],
      "metadata": {
        "id": "fPT6OjbxrH2S"
      }
    },
    {
      "cell_type": "markdown",
      "source": [
        "## Data Understanding\n",
        "\n",
        "Let's explore the dataset to assess its structure, completeness, and potential value.\n",
        "\n",
        "### Key steps in this phase include:\n",
        "\n",
        "- Initial Data Inspection\n",
        "\n",
        "  1. Load the dataset and examine its shape (rows and columns), data types, and a sample of records using .info() and .head().\n",
        "\n",
        "  2. Identify the target variable (price) and distinguish between numerical, categorical, and identifier columns.\n",
        "\n",
        "- Assessing Data Completeness\n",
        "\n",
        "  1. Check for missing values across all columns.\n",
        "\n",
        "  2. Quantify missingness (e.g., what % of values are missing for condition, cylinders, VIN, etc.).\n",
        "\n",
        "  3. Identify columns with high missingness that may require removal or special handling (e.g., imputation or “missing” category labels).\n",
        "\n",
        "- Understanding Feature Types and Distributions\n",
        "\n",
        "  1. Explore distributions of key numerical features like year, odometer, and price to detect skewness or outliers.\n",
        "\n",
        "  2. Review cardinality of categorical features (e.g., number of unique models, manufacturers, paint colors) to determine encoding strategies.\n",
        "\n",
        "  3. Plot histograms, boxplots, and count plots for exploratory analysis.\n",
        "\n",
        "- Detecting Data Quality Issues\n",
        "\n",
        "  1. Look for duplicates, nonsensical values (e.g., year values in the future or prices under $100), and inconsistent categorical labels (e.g., spelling issues or mixed case).\n",
        "\n",
        "  2. Investigate any data entry anomalies or inconsistencies in categorical features (e.g., multiple representations of the same category).\n",
        "\n",
        "- Assessing Relationships Between Features\n",
        "\n",
        "  1. Calculate pairwise correlations for numeric variables to identify multicollinearity or strong linear relationships.\n",
        "\n",
        "  2. Use group-by summaries (e.g., average price by manufacturer or condition) to begin uncovering potential price drivers.\n",
        "\n",
        "- Understanding Target Variable (price)\n",
        "\n",
        "  1. Examine the distribution of price to determine whether transformations (e.g., log scale) are necessary for modeling.\n",
        "\n",
        "  2. Identify and potentially flag outliers (extremely high or low prices) that could skew model performance."
      ],
      "metadata": {
        "id": "jsALH0weryyA"
      }
    },
    {
      "cell_type": "code",
      "source": [
        "# Initial Data Inspection\n",
        "# Basic structure\n",
        "print(\"Shape:\", df.shape)\n",
        "df.info()\n",
        "df.head()"
      ],
      "metadata": {
        "colab": {
          "base_uri": "https://localhost:8080/",
          "height": 729
        },
        "collapsed": true,
        "id": "YFlrQEVLs0xb",
        "outputId": "9a13f641-bcc5-417d-8495-1da904660793"
      },
      "execution_count": 3,
      "outputs": [
        {
          "output_type": "stream",
          "name": "stdout",
          "text": [
            "Shape: (426880, 18)\n",
            "<class 'pandas.core.frame.DataFrame'>\n",
            "RangeIndex: 426880 entries, 0 to 426879\n",
            "Data columns (total 18 columns):\n",
            " #   Column        Non-Null Count   Dtype  \n",
            "---  ------        --------------   -----  \n",
            " 0   id            426880 non-null  int64  \n",
            " 1   region        426880 non-null  object \n",
            " 2   price         426880 non-null  int64  \n",
            " 3   year          425675 non-null  float64\n",
            " 4   manufacturer  409234 non-null  object \n",
            " 5   model         421603 non-null  object \n",
            " 6   condition     252776 non-null  object \n",
            " 7   cylinders     249202 non-null  object \n",
            " 8   fuel          423867 non-null  object \n",
            " 9   odometer      422480 non-null  float64\n",
            " 10  title_status  418638 non-null  object \n",
            " 11  transmission  424324 non-null  object \n",
            " 12  VIN           265838 non-null  object \n",
            " 13  drive         296313 non-null  object \n",
            " 14  size          120519 non-null  object \n",
            " 15  type          334022 non-null  object \n",
            " 16  paint_color   296677 non-null  object \n",
            " 17  state         426880 non-null  object \n",
            "dtypes: float64(2), int64(2), object(14)\n",
            "memory usage: 58.6+ MB\n"
          ]
        },
        {
          "output_type": "execute_result",
          "data": {
            "text/plain": [
              "           id                  region  price  year manufacturer model  \\\n",
              "0  7222695916                prescott   6000   NaN          NaN   NaN   \n",
              "1  7218891961            fayetteville  11900   NaN          NaN   NaN   \n",
              "2  7221797935            florida keys  21000   NaN          NaN   NaN   \n",
              "3  7222270760  worcester / central MA   1500   NaN          NaN   NaN   \n",
              "4  7210384030              greensboro   4900   NaN          NaN   NaN   \n",
              "\n",
              "  condition cylinders fuel  odometer title_status transmission  VIN drive  \\\n",
              "0       NaN       NaN  NaN       NaN          NaN          NaN  NaN   NaN   \n",
              "1       NaN       NaN  NaN       NaN          NaN          NaN  NaN   NaN   \n",
              "2       NaN       NaN  NaN       NaN          NaN          NaN  NaN   NaN   \n",
              "3       NaN       NaN  NaN       NaN          NaN          NaN  NaN   NaN   \n",
              "4       NaN       NaN  NaN       NaN          NaN          NaN  NaN   NaN   \n",
              "\n",
              "  size type paint_color state  \n",
              "0  NaN  NaN         NaN    az  \n",
              "1  NaN  NaN         NaN    ar  \n",
              "2  NaN  NaN         NaN    fl  \n",
              "3  NaN  NaN         NaN    ma  \n",
              "4  NaN  NaN         NaN    nc  "
            ],
            "text/html": [
              "\n",
              "  <div id=\"df-c0f78127-90e1-4a40-ac46-692c841cae56\" class=\"colab-df-container\">\n",
              "    <div>\n",
              "<style scoped>\n",
              "    .dataframe tbody tr th:only-of-type {\n",
              "        vertical-align: middle;\n",
              "    }\n",
              "\n",
              "    .dataframe tbody tr th {\n",
              "        vertical-align: top;\n",
              "    }\n",
              "\n",
              "    .dataframe thead th {\n",
              "        text-align: right;\n",
              "    }\n",
              "</style>\n",
              "<table border=\"1\" class=\"dataframe\">\n",
              "  <thead>\n",
              "    <tr style=\"text-align: right;\">\n",
              "      <th></th>\n",
              "      <th>id</th>\n",
              "      <th>region</th>\n",
              "      <th>price</th>\n",
              "      <th>year</th>\n",
              "      <th>manufacturer</th>\n",
              "      <th>model</th>\n",
              "      <th>condition</th>\n",
              "      <th>cylinders</th>\n",
              "      <th>fuel</th>\n",
              "      <th>odometer</th>\n",
              "      <th>title_status</th>\n",
              "      <th>transmission</th>\n",
              "      <th>VIN</th>\n",
              "      <th>drive</th>\n",
              "      <th>size</th>\n",
              "      <th>type</th>\n",
              "      <th>paint_color</th>\n",
              "      <th>state</th>\n",
              "    </tr>\n",
              "  </thead>\n",
              "  <tbody>\n",
              "    <tr>\n",
              "      <th>0</th>\n",
              "      <td>7222695916</td>\n",
              "      <td>prescott</td>\n",
              "      <td>6000</td>\n",
              "      <td>NaN</td>\n",
              "      <td>NaN</td>\n",
              "      <td>NaN</td>\n",
              "      <td>NaN</td>\n",
              "      <td>NaN</td>\n",
              "      <td>NaN</td>\n",
              "      <td>NaN</td>\n",
              "      <td>NaN</td>\n",
              "      <td>NaN</td>\n",
              "      <td>NaN</td>\n",
              "      <td>NaN</td>\n",
              "      <td>NaN</td>\n",
              "      <td>NaN</td>\n",
              "      <td>NaN</td>\n",
              "      <td>az</td>\n",
              "    </tr>\n",
              "    <tr>\n",
              "      <th>1</th>\n",
              "      <td>7218891961</td>\n",
              "      <td>fayetteville</td>\n",
              "      <td>11900</td>\n",
              "      <td>NaN</td>\n",
              "      <td>NaN</td>\n",
              "      <td>NaN</td>\n",
              "      <td>NaN</td>\n",
              "      <td>NaN</td>\n",
              "      <td>NaN</td>\n",
              "      <td>NaN</td>\n",
              "      <td>NaN</td>\n",
              "      <td>NaN</td>\n",
              "      <td>NaN</td>\n",
              "      <td>NaN</td>\n",
              "      <td>NaN</td>\n",
              "      <td>NaN</td>\n",
              "      <td>NaN</td>\n",
              "      <td>ar</td>\n",
              "    </tr>\n",
              "    <tr>\n",
              "      <th>2</th>\n",
              "      <td>7221797935</td>\n",
              "      <td>florida keys</td>\n",
              "      <td>21000</td>\n",
              "      <td>NaN</td>\n",
              "      <td>NaN</td>\n",
              "      <td>NaN</td>\n",
              "      <td>NaN</td>\n",
              "      <td>NaN</td>\n",
              "      <td>NaN</td>\n",
              "      <td>NaN</td>\n",
              "      <td>NaN</td>\n",
              "      <td>NaN</td>\n",
              "      <td>NaN</td>\n",
              "      <td>NaN</td>\n",
              "      <td>NaN</td>\n",
              "      <td>NaN</td>\n",
              "      <td>NaN</td>\n",
              "      <td>fl</td>\n",
              "    </tr>\n",
              "    <tr>\n",
              "      <th>3</th>\n",
              "      <td>7222270760</td>\n",
              "      <td>worcester / central MA</td>\n",
              "      <td>1500</td>\n",
              "      <td>NaN</td>\n",
              "      <td>NaN</td>\n",
              "      <td>NaN</td>\n",
              "      <td>NaN</td>\n",
              "      <td>NaN</td>\n",
              "      <td>NaN</td>\n",
              "      <td>NaN</td>\n",
              "      <td>NaN</td>\n",
              "      <td>NaN</td>\n",
              "      <td>NaN</td>\n",
              "      <td>NaN</td>\n",
              "      <td>NaN</td>\n",
              "      <td>NaN</td>\n",
              "      <td>NaN</td>\n",
              "      <td>ma</td>\n",
              "    </tr>\n",
              "    <tr>\n",
              "      <th>4</th>\n",
              "      <td>7210384030</td>\n",
              "      <td>greensboro</td>\n",
              "      <td>4900</td>\n",
              "      <td>NaN</td>\n",
              "      <td>NaN</td>\n",
              "      <td>NaN</td>\n",
              "      <td>NaN</td>\n",
              "      <td>NaN</td>\n",
              "      <td>NaN</td>\n",
              "      <td>NaN</td>\n",
              "      <td>NaN</td>\n",
              "      <td>NaN</td>\n",
              "      <td>NaN</td>\n",
              "      <td>NaN</td>\n",
              "      <td>NaN</td>\n",
              "      <td>NaN</td>\n",
              "      <td>NaN</td>\n",
              "      <td>nc</td>\n",
              "    </tr>\n",
              "  </tbody>\n",
              "</table>\n",
              "</div>\n",
              "    <div class=\"colab-df-buttons\">\n",
              "\n",
              "  <div class=\"colab-df-container\">\n",
              "    <button class=\"colab-df-convert\" onclick=\"convertToInteractive('df-c0f78127-90e1-4a40-ac46-692c841cae56')\"\n",
              "            title=\"Convert this dataframe to an interactive table.\"\n",
              "            style=\"display:none;\">\n",
              "\n",
              "  <svg xmlns=\"http://www.w3.org/2000/svg\" height=\"24px\" viewBox=\"0 -960 960 960\">\n",
              "    <path d=\"M120-120v-720h720v720H120Zm60-500h600v-160H180v160Zm220 220h160v-160H400v160Zm0 220h160v-160H400v160ZM180-400h160v-160H180v160Zm440 0h160v-160H620v160ZM180-180h160v-160H180v160Zm440 0h160v-160H620v160Z\"/>\n",
              "  </svg>\n",
              "    </button>\n",
              "\n",
              "  <style>\n",
              "    .colab-df-container {\n",
              "      display:flex;\n",
              "      gap: 12px;\n",
              "    }\n",
              "\n",
              "    .colab-df-convert {\n",
              "      background-color: #E8F0FE;\n",
              "      border: none;\n",
              "      border-radius: 50%;\n",
              "      cursor: pointer;\n",
              "      display: none;\n",
              "      fill: #1967D2;\n",
              "      height: 32px;\n",
              "      padding: 0 0 0 0;\n",
              "      width: 32px;\n",
              "    }\n",
              "\n",
              "    .colab-df-convert:hover {\n",
              "      background-color: #E2EBFA;\n",
              "      box-shadow: 0px 1px 2px rgba(60, 64, 67, 0.3), 0px 1px 3px 1px rgba(60, 64, 67, 0.15);\n",
              "      fill: #174EA6;\n",
              "    }\n",
              "\n",
              "    .colab-df-buttons div {\n",
              "      margin-bottom: 4px;\n",
              "    }\n",
              "\n",
              "    [theme=dark] .colab-df-convert {\n",
              "      background-color: #3B4455;\n",
              "      fill: #D2E3FC;\n",
              "    }\n",
              "\n",
              "    [theme=dark] .colab-df-convert:hover {\n",
              "      background-color: #434B5C;\n",
              "      box-shadow: 0px 1px 3px 1px rgba(0, 0, 0, 0.15);\n",
              "      filter: drop-shadow(0px 1px 2px rgba(0, 0, 0, 0.3));\n",
              "      fill: #FFFFFF;\n",
              "    }\n",
              "  </style>\n",
              "\n",
              "    <script>\n",
              "      const buttonEl =\n",
              "        document.querySelector('#df-c0f78127-90e1-4a40-ac46-692c841cae56 button.colab-df-convert');\n",
              "      buttonEl.style.display =\n",
              "        google.colab.kernel.accessAllowed ? 'block' : 'none';\n",
              "\n",
              "      async function convertToInteractive(key) {\n",
              "        const element = document.querySelector('#df-c0f78127-90e1-4a40-ac46-692c841cae56');\n",
              "        const dataTable =\n",
              "          await google.colab.kernel.invokeFunction('convertToInteractive',\n",
              "                                                    [key], {});\n",
              "        if (!dataTable) return;\n",
              "\n",
              "        const docLinkHtml = 'Like what you see? Visit the ' +\n",
              "          '<a target=\"_blank\" href=https://colab.research.google.com/notebooks/data_table.ipynb>data table notebook</a>'\n",
              "          + ' to learn more about interactive tables.';\n",
              "        element.innerHTML = '';\n",
              "        dataTable['output_type'] = 'display_data';\n",
              "        await google.colab.output.renderOutput(dataTable, element);\n",
              "        const docLink = document.createElement('div');\n",
              "        docLink.innerHTML = docLinkHtml;\n",
              "        element.appendChild(docLink);\n",
              "      }\n",
              "    </script>\n",
              "  </div>\n",
              "\n",
              "\n",
              "    <div id=\"df-f14bc75a-74ae-4dee-9a54-cacccf3ec6b0\">\n",
              "      <button class=\"colab-df-quickchart\" onclick=\"quickchart('df-f14bc75a-74ae-4dee-9a54-cacccf3ec6b0')\"\n",
              "                title=\"Suggest charts\"\n",
              "                style=\"display:none;\">\n",
              "\n",
              "<svg xmlns=\"http://www.w3.org/2000/svg\" height=\"24px\"viewBox=\"0 0 24 24\"\n",
              "     width=\"24px\">\n",
              "    <g>\n",
              "        <path d=\"M19 3H5c-1.1 0-2 .9-2 2v14c0 1.1.9 2 2 2h14c1.1 0 2-.9 2-2V5c0-1.1-.9-2-2-2zM9 17H7v-7h2v7zm4 0h-2V7h2v10zm4 0h-2v-4h2v4z\"/>\n",
              "    </g>\n",
              "</svg>\n",
              "      </button>\n",
              "\n",
              "<style>\n",
              "  .colab-df-quickchart {\n",
              "      --bg-color: #E8F0FE;\n",
              "      --fill-color: #1967D2;\n",
              "      --hover-bg-color: #E2EBFA;\n",
              "      --hover-fill-color: #174EA6;\n",
              "      --disabled-fill-color: #AAA;\n",
              "      --disabled-bg-color: #DDD;\n",
              "  }\n",
              "\n",
              "  [theme=dark] .colab-df-quickchart {\n",
              "      --bg-color: #3B4455;\n",
              "      --fill-color: #D2E3FC;\n",
              "      --hover-bg-color: #434B5C;\n",
              "      --hover-fill-color: #FFFFFF;\n",
              "      --disabled-bg-color: #3B4455;\n",
              "      --disabled-fill-color: #666;\n",
              "  }\n",
              "\n",
              "  .colab-df-quickchart {\n",
              "    background-color: var(--bg-color);\n",
              "    border: none;\n",
              "    border-radius: 50%;\n",
              "    cursor: pointer;\n",
              "    display: none;\n",
              "    fill: var(--fill-color);\n",
              "    height: 32px;\n",
              "    padding: 0;\n",
              "    width: 32px;\n",
              "  }\n",
              "\n",
              "  .colab-df-quickchart:hover {\n",
              "    background-color: var(--hover-bg-color);\n",
              "    box-shadow: 0 1px 2px rgba(60, 64, 67, 0.3), 0 1px 3px 1px rgba(60, 64, 67, 0.15);\n",
              "    fill: var(--button-hover-fill-color);\n",
              "  }\n",
              "\n",
              "  .colab-df-quickchart-complete:disabled,\n",
              "  .colab-df-quickchart-complete:disabled:hover {\n",
              "    background-color: var(--disabled-bg-color);\n",
              "    fill: var(--disabled-fill-color);\n",
              "    box-shadow: none;\n",
              "  }\n",
              "\n",
              "  .colab-df-spinner {\n",
              "    border: 2px solid var(--fill-color);\n",
              "    border-color: transparent;\n",
              "    border-bottom-color: var(--fill-color);\n",
              "    animation:\n",
              "      spin 1s steps(1) infinite;\n",
              "  }\n",
              "\n",
              "  @keyframes spin {\n",
              "    0% {\n",
              "      border-color: transparent;\n",
              "      border-bottom-color: var(--fill-color);\n",
              "      border-left-color: var(--fill-color);\n",
              "    }\n",
              "    20% {\n",
              "      border-color: transparent;\n",
              "      border-left-color: var(--fill-color);\n",
              "      border-top-color: var(--fill-color);\n",
              "    }\n",
              "    30% {\n",
              "      border-color: transparent;\n",
              "      border-left-color: var(--fill-color);\n",
              "      border-top-color: var(--fill-color);\n",
              "      border-right-color: var(--fill-color);\n",
              "    }\n",
              "    40% {\n",
              "      border-color: transparent;\n",
              "      border-right-color: var(--fill-color);\n",
              "      border-top-color: var(--fill-color);\n",
              "    }\n",
              "    60% {\n",
              "      border-color: transparent;\n",
              "      border-right-color: var(--fill-color);\n",
              "    }\n",
              "    80% {\n",
              "      border-color: transparent;\n",
              "      border-right-color: var(--fill-color);\n",
              "      border-bottom-color: var(--fill-color);\n",
              "    }\n",
              "    90% {\n",
              "      border-color: transparent;\n",
              "      border-bottom-color: var(--fill-color);\n",
              "    }\n",
              "  }\n",
              "</style>\n",
              "\n",
              "      <script>\n",
              "        async function quickchart(key) {\n",
              "          const quickchartButtonEl =\n",
              "            document.querySelector('#' + key + ' button');\n",
              "          quickchartButtonEl.disabled = true;  // To prevent multiple clicks.\n",
              "          quickchartButtonEl.classList.add('colab-df-spinner');\n",
              "          try {\n",
              "            const charts = await google.colab.kernel.invokeFunction(\n",
              "                'suggestCharts', [key], {});\n",
              "          } catch (error) {\n",
              "            console.error('Error during call to suggestCharts:', error);\n",
              "          }\n",
              "          quickchartButtonEl.classList.remove('colab-df-spinner');\n",
              "          quickchartButtonEl.classList.add('colab-df-quickchart-complete');\n",
              "        }\n",
              "        (() => {\n",
              "          let quickchartButtonEl =\n",
              "            document.querySelector('#df-f14bc75a-74ae-4dee-9a54-cacccf3ec6b0 button');\n",
              "          quickchartButtonEl.style.display =\n",
              "            google.colab.kernel.accessAllowed ? 'block' : 'none';\n",
              "        })();\n",
              "      </script>\n",
              "    </div>\n",
              "\n",
              "    </div>\n",
              "  </div>\n"
            ],
            "application/vnd.google.colaboratory.intrinsic+json": {
              "type": "dataframe",
              "variable_name": "df"
            }
          },
          "metadata": {},
          "execution_count": 3
        }
      ]
    },
    {
      "cell_type": "code",
      "source": [
        "# Assessing Data Completeness\n",
        "# Count missing values per column\n",
        "missing_counts = df.isnull().sum().sort_values(ascending=False)\n",
        "missing_percent = (df.isnull().sum() / len(df)) * 100\n",
        "\n",
        "# Combine for display\n",
        "missing_df = pd.DataFrame({\n",
        "    'Missing Values': missing_counts,\n",
        "    'Missing %': missing_percent\n",
        "})\n",
        "\n",
        "print(missing_df[missing_df['Missing Values'] > 0])"
      ],
      "metadata": {
        "colab": {
          "base_uri": "https://localhost:8080/"
        },
        "id": "nl-Xj_bOuPbh",
        "outputId": "a002f5ac-e1ab-4f5b-b55e-e9537a31324a"
      },
      "execution_count": 4,
      "outputs": [
        {
          "output_type": "stream",
          "name": "stdout",
          "text": [
            "              Missing Values  Missing %\n",
            "VIN                   161042  37.725356\n",
            "condition             174104  40.785232\n",
            "cylinders             177678  41.622470\n",
            "drive                 130567  30.586347\n",
            "fuel                    3013   0.705819\n",
            "manufacturer           17646   4.133714\n",
            "model                   5277   1.236179\n",
            "odometer                4400   1.030735\n",
            "paint_color           130203  30.501078\n",
            "size                  306361  71.767476\n",
            "title_status            8242   1.930753\n",
            "transmission            2556   0.598763\n",
            "type                   92858  21.752717\n",
            "year                    1205   0.282281\n"
          ]
        }
      ]
    },
    {
      "cell_type": "code",
      "source": [
        "# Understanding Feature Types and Distributions\n",
        "\n",
        "# Numeric distribution plots\n",
        "numeric_cols = ['price', 'year', 'odometer']\n",
        "for col in numeric_cols:\n",
        "    plt.figure(figsize=(6, 4))\n",
        "    sns.histplot(df[col].dropna(), kde=True, bins=30)\n",
        "    plt.title(f'Distribution of {col}')\n",
        "    plt.xlabel(col)\n",
        "    plt.ylabel(\"Frequency\")\n",
        "    plt.tight_layout()\n",
        "    plt.savefig(f\"{save_path}/distribution_{col}.png\")\n",
        "    plt.close()\n",
        "\n",
        "# Categorical counts (top 10 for long features)\n",
        "categorical_cols = ['manufacturer', 'model', 'condition', 'cylinders', 'fuel']\n",
        "for col in categorical_cols:\n",
        "    plt.figure(figsize=(8, 4))\n",
        "    df[col].value_counts().head(10).plot(kind='bar')\n",
        "    plt.title(f'Top 10 categories in {col}')\n",
        "    plt.ylabel('Count')\n",
        "    plt.xticks(rotation=45)\n",
        "    plt.tight_layout()\n",
        "    plt.savefig(f\"{save_path}/top10_{col}.png\")\n",
        "    plt.close()\n",
        "\n"
      ],
      "metadata": {
        "collapsed": true,
        "id": "7mZpr8ijua8Z"
      },
      "execution_count": 6,
      "outputs": []
    },
    {
      "cell_type": "code",
      "source": [
        "# Detect Data Quality Issues\n",
        "# Check duplicates\n",
        "print(\"Duplicate rows:\", df.duplicated().sum())\n",
        "\n",
        "# Detect outliers or odd values in year/price\n",
        "print(\"Year range:\", df['year'].min(), \"-\", df['year'].max())\n",
        "print(\"Price range:\", df['price'].min(), \"-\", df['price'].max())\n",
        "\n",
        "# Spot records with suspicious values\n",
        "print(\"Future Years: \", df[df['year'] > 2025].shape[0])  # future years\n",
        "print(\"High Prices: \", df[df['price'] > 100000].shape[0])  # suspiciously high prices\n",
        "print(\"Low Prices: \", df[df['price'] < 1000].shape[0])  # suspiciously low prices\n",
        "print(\"Cars older than 2005: \", df[df['year'] < 2005].shape[0]) # Car dealership would like to sell cars that are maximum 20 years age\n",
        "print(\"High Odometer: \", df[df['odometer'] > 150000].shape[0])  # Car dealership would like to sell cars that have odometers less than 200000\n",
        "\n"
      ],
      "metadata": {
        "colab": {
          "base_uri": "https://localhost:8080/"
        },
        "id": "x0pFg0bbvENu",
        "outputId": "d4fbd969-9853-4ba8-a658-7bc40979c6eb"
      },
      "execution_count": 7,
      "outputs": [
        {
          "output_type": "stream",
          "name": "stdout",
          "text": [
            "Duplicate rows: 0\n",
            "Year range: 1900.0 - 2022.0\n",
            "Price range: 0 - 3736928711\n",
            "Future Years:  0\n",
            "High Prices:  655\n",
            "Low Prices:  46315\n",
            "Cars older than 2005:  54974\n",
            "High Odometer:  76237\n"
          ]
        }
      ]
    },
    {
      "cell_type": "code",
      "source": [
        "# Assessing Relationships between Features\n",
        "# Correlation heatmap\n",
        "corr = df[['price', 'year', 'odometer']].corr()\n",
        "plt.figure(figsize=(5, 4))\n",
        "sns.heatmap(corr, annot=True, cmap='coolwarm')\n",
        "plt.title(\"Correlation Matrix\")\n",
        "plt.tight_layout()\n",
        "plt.savefig(f\"{save_path}/correlation_matrix.png\")\n",
        "plt.close()\n",
        "\n",
        "# Grouped summaries\n",
        "avg_price_by_condition = df.groupby('condition')['price'].mean().sort_values(ascending=False)\n",
        "print(\"Average Price by Condition:\")\n",
        "print(avg_price_by_condition)\n",
        "\n",
        "avg_price_by_manufacturer = df.groupby('manufacturer')['price'].mean().sort_values(ascending=False).head(10)\n",
        "print(\"\\nTop 10 Manufacturers by Average Price:\")\n",
        "print(avg_price_by_manufacturer)"
      ],
      "metadata": {
        "colab": {
          "base_uri": "https://localhost:8080/"
        },
        "id": "cIuAGakOykE2",
        "outputId": "dab40150-b70f-4a94-a17c-be2455258852"
      },
      "execution_count": 8,
      "outputs": [
        {
          "output_type": "stream",
          "name": "stdout",
          "text": [
            "Average Price by Condition:\n",
            "condition\n",
            "fair         761090.005614\n",
            "excellent     51346.825953\n",
            "like new      36402.041978\n",
            "good          32545.203102\n",
            "new           23657.266667\n",
            "salvage        3605.534110\n",
            "Name: price, dtype: float64\n",
            "\n",
            "Top 10 Manufacturers by Average Price:\n",
            "manufacturer\n",
            "mercedes-benz    531710.557333\n",
            "volvo            383755.147896\n",
            "toyota           234294.682621\n",
            "jeep             150717.819659\n",
            "chevrolet        115676.101645\n",
            "ferrari          107438.736842\n",
            "aston-martin      53494.541667\n",
            "tesla             38354.456221\n",
            "buick             36784.954736\n",
            "ford              36411.718025\n",
            "Name: price, dtype: float64\n"
          ]
        }
      ]
    },
    {
      "cell_type": "code",
      "source": [
        "# Understanding Target Variable\n",
        "# Distribution of price (raw)\n",
        "plt.figure(figsize=(6, 4))\n",
        "sns.histplot(df['price'].dropna(), bins=50, kde=True)\n",
        "plt.title(\"Raw Price Distribution\")\n",
        "plt.xlabel(\"Price\")\n",
        "plt.ylabel(\"Frequency\")\n",
        "plt.tight_layout()\n",
        "plt.savefig(f\"{save_path}/price_distribution_raw.png\")\n",
        "plt.close()\n",
        "\n",
        "# Log transform\n",
        "df['log_price'] = np.log1p(df['price'])\n",
        "\n",
        "# Distribution of log-transformed price\n",
        "plt.figure(figsize=(6, 4))\n",
        "sns.histplot(df['log_price'], bins=50, kde=True)\n",
        "plt.title(\"Log-Transformed Price Distribution\")\n",
        "plt.xlabel(\"Log(Price + 1)\")\n",
        "plt.ylabel(\"Frequency\")\n",
        "plt.tight_layout()\n",
        "plt.savefig(f\"{save_path}/price_distribution_log.png\")\n",
        "plt.close()\n",
        "\n",
        "# Boxplot of raw price\n",
        "plt.figure(figsize=(6, 4))\n",
        "sns.boxplot(x=df['price'])\n",
        "plt.title(\"Boxplot of Price\")\n",
        "plt.xlabel(\"Price\")\n",
        "plt.tight_layout()\n",
        "plt.savefig(f\"{save_path}/price_boxplot.png\")\n",
        "plt.close()"
      ],
      "metadata": {
        "collapsed": true,
        "id": "qSognksjzm7D"
      },
      "execution_count": 10,
      "outputs": []
    },
    {
      "cell_type": "markdown",
      "source": [
        "## Data Preparation\n",
        "This step involves:\n",
        "\n",
        "1. Handling missing values in both numerical and categorical features.\n",
        "2. Cleaning and standardizing categorical variables (e.g., fixing inconsistent labels).\n",
        "3. Feature engineering, including interaction terms and log-transformations.\n",
        "4. Dropping irrelevant or noisy columns such as IDs or high-cardinality non-informative features.\n",
        "5. Encoding categorical variables for modeling (ordinal and one-hot).\n",
        "6. Scaling numeric variables and optionally applying normalization or polynomial expansion.\n",
        "7. Organizing everything into a clean pipeline compatible with scikit-learn."
      ],
      "metadata": {
        "id": "7vfGwk_rz04C"
      }
    },
    {
      "cell_type": "code",
      "source": [
        "# Make a copy of the original DataFrame before cleaning or transformation\n",
        "df_original = df.copy()\n",
        "\n",
        "# Step 1: Drop irrelevant or noisy columns with high cardinality and size that has >70% missing values\n",
        "df.drop(columns=['id', 'VIN', 'region', 'model', 'size', 'state'], inplace=True)"
      ],
      "metadata": {
        "id": "5NUDeBot02Qn"
      },
      "execution_count": 11,
      "outputs": []
    },
    {
      "cell_type": "code",
      "source": [
        "# Step 2: Filter out clearly invalid or extreme price values, odometer, and cars before 2005\n",
        "df = df[df['year'] > 2004] # remove cars older than 2005\n",
        "df = df[df['odometer'] < 150000] # remove extremely high odometer readings\n",
        "df = df[df['price'].notnull()]\n",
        "df = df[df['price'] >= 1000]            # remove extremely low prices\n",
        "df = df[df['price'] <= 150000]         # cap based on realistic market ceiling"
      ],
      "metadata": {
        "id": "lgQVwkGoz0Do"
      },
      "execution_count": 12,
      "outputs": []
    },
    {
      "cell_type": "code",
      "source": [
        "# based on data, as well have >400K records, columns with less than 2% null values can be deleted\n",
        "\n",
        "# Drop rows with missing target or critical info\n",
        "df = df.dropna(subset=['year', 'fuel', 'odometer', 'transmission', 'title_status', 'price'])"
      ],
      "metadata": {
        "id": "YRLIRYjQ7_kO"
      },
      "execution_count": 13,
      "outputs": []
    },
    {
      "cell_type": "code",
      "source": [
        "# Step 3: Create new Age feature\n",
        "from datetime import datetime\n",
        "\n",
        "# Get current year\n",
        "current_year = datetime.now().year\n",
        "\n",
        "# Add new feature: car age\n",
        "df['car_age'] = current_year - df['year']\n",
        "\n",
        "# Drop year column\n",
        "df.drop(columns=['year'], inplace=True)"
      ],
      "metadata": {
        "id": "pDdmH31z23ge"
      },
      "execution_count": 14,
      "outputs": []
    },
    {
      "cell_type": "code",
      "source": [
        "# Create new Mileage per Year feature\n",
        "\n",
        "df['mileage_per_year'] = df['odometer'] / df['car_age']\n",
        "\n",
        "# Drop odometer column\n",
        "df.drop(columns=['odometer'], inplace=True)"
      ],
      "metadata": {
        "id": "PJNoESZOJ19a"
      },
      "execution_count": 15,
      "outputs": []
    },
    {
      "cell_type": "code",
      "source": [
        "# Manufacturer has high cardinality let's categorize them by economy, standard, premium, luxury, other or rare\n",
        "# Define category map\n",
        "manufacturer_group_map = {\n",
        "    # Economy\n",
        "    \"ford\": \"economy\", \"chevrolet\": \"economy\", \"kia\": \"economy\", \"hyundai\": \"economy\",\n",
        "    \"nissan\": \"economy\", \"dodge\": \"economy\", \"chrysler\": \"economy\", \"ram\": \"economy\",\n",
        "    \"gmc\": \"economy\", \"mitsubishi\": \"economy\", \"pontiac\": \"economy\", \"saturn\": \"economy\",\n",
        "    \"mercury\": \"economy\", \"datsun\": \"economy\",\n",
        "\n",
        "    # Standard\n",
        "    \"toyota\": \"standard\", \"honda\": \"standard\", \"subaru\": \"standard\",\n",
        "    \"volkswagen\": \"standard\", \"mazda\": \"standard\", \"buick\": \"standard\",\n",
        "\n",
        "    # Premium\n",
        "    \"jeep\": \"premium\", \"mini\": \"premium\", \"volvo\": \"premium\",\n",
        "    \"acura\": \"premium\", \"infiniti\": \"premium\",\n",
        "\n",
        "    # Luxury\n",
        "    \"bmw\": \"luxury\", \"mercedes-benz\": \"luxury\", \"audi\": \"luxury\",\n",
        "    \"lexus\": \"luxury\", \"cadillac\": \"luxury\", \"lincoln\": \"luxury\",\n",
        "    \"porsche\": \"luxury\", \"tesla\": \"luxury\", \"jaguar\": \"luxury\",\n",
        "    \"rover\": \"luxury\", \"alfa-romeo\": \"luxury\", \"land rover\": \"luxury\",\n",
        "    \"ferrari\": \"luxury\", \"aston-martin\": \"luxury\",\n",
        "\n",
        "    # Other or rare\n",
        "    \"fiat\": \"other\", \"harley-davidson\": \"other\", \"unknown\": \"other\"\n",
        "}\n",
        "\n",
        "# Apply the mapping\n",
        "df[\"manufacturer_group\"] = df[\"manufacturer\"].map(manufacturer_group_map).fillna(\"other\")\n",
        "\n",
        "# Optional: Preview distribution\n",
        "print(df[\"manufacturer_group\"].value_counts())\n",
        "\n",
        "# Drop manufacturer column\n",
        "df.drop(columns=['manufacturer'], inplace=True)"
      ],
      "metadata": {
        "colab": {
          "base_uri": "https://localhost:8080/"
        },
        "id": "Kuxa1czVFeSj",
        "outputId": "39df6a0c-7a6b-4076-bef7-4487ce689dad"
      },
      "execution_count": 16,
      "outputs": [
        {
          "output_type": "stream",
          "name": "stdout",
          "text": [
            "manufacturer_group\n",
            "economy     138062\n",
            "standard     52884\n",
            "luxury       44318\n",
            "premium      24884\n",
            "other         7639\n",
            "Name: count, dtype: int64\n"
          ]
        }
      ]
    },
    {
      "cell_type": "code",
      "source": [
        "# Step 4: Define columns\n",
        "numeric_features = ['car_age', 'mileage_per_year']\n",
        "ordinal_features = ['condition', 'cylinders', 'title_status', 'type', 'paint_color', 'manufacturer_group', 'fuel', 'transmission', 'drive']\n",
        "ordinal_categories = [\n",
        "    ['missing', 'other', 'salvage', 'fair', 'good', 'excellent', 'like new', 'new'],  # condition\n",
        "    ['missing', 'other', '3 cylinders', '4 cylinders', '5 cylinders', '6 cylinders', '8 cylinders', '10 cylinders', '12 cylinders'],  # cylinders\n",
        "    ['other', 'parts only', 'missing', 'salvage', 'rebuilt', 'lien', 'clean'],  # title status\n",
        "    ['missing', 'other', 'bus', 'offroad', 'truck', 'van', 'mini-van', 'convertible', 'coupe', 'hatchback', 'wagon', 'sedan', 'pickup', 'SUV'], # type order by desirability\n",
        "    ['missing', 'other', 'purple', 'orange', 'yellow', 'custom', 'brown', 'green', 'red', 'blue', 'grey', 'silver', 'black', 'white'], # paint_color by color popularity\n",
        "    ['missing', 'other', 'economy', 'standard', 'premium', 'luxury'], # manufacturer groups replace high cardinality manufacturer\n",
        "    ['missing', 'gas', 'diesel', 'other', 'hybrid', 'electric'], # high tech - value perception\n",
        "    ['missing', 'other', 'manual', 'automatic'], # by preference\n",
        "    ['missing', 'other', 'fwd', 'rwd', 'awd', '4wd'] # by price premiums\n",
        "]"
      ],
      "metadata": {
        "id": "Hv_-5cNh7fnn"
      },
      "execution_count": 17,
      "outputs": []
    },
    {
      "cell_type": "code",
      "source": [
        "# Step 5: Create column pipelines\n",
        "\n",
        "# Numeric pipeline: impute + poly features + scale\n",
        "numeric_pipeline = Pipeline([\n",
        "    ('imputer', SimpleImputer(strategy='median')),\n",
        "    ('poly', PolynomialFeatures()), # degree will be tuned\n",
        "    #('poly', PolynomialFeatures(degree=2, include_bias=False)),\n",
        "    ('scaler', StandardScaler())\n",
        "])\n",
        "\n",
        "# Ordinal pipeline: impute + ordinal encoding (with provided categories)\n",
        "ordinal_pipeline = Pipeline([\n",
        "    ('imputer', SimpleImputer(strategy='constant', fill_value='missing')),\n",
        "    ('ordinal', OrdinalEncoder(categories=ordinal_categories))\n",
        "])"
      ],
      "metadata": {
        "id": "e71V0BIhIKEs"
      },
      "execution_count": 19,
      "outputs": []
    },
    {
      "cell_type": "code",
      "source": [
        "# Step 6: Combine all transformers\n",
        "preprocessor = ColumnTransformer([\n",
        "    ('num', numeric_pipeline, numeric_features),\n",
        "    ('ord', ordinal_pipeline, ordinal_features),\n",
        "])"
      ],
      "metadata": {
        "id": "8OX3OQSlI1lI"
      },
      "execution_count": 20,
      "outputs": []
    },
    {
      "cell_type": "code",
      "source": [
        "df_final = df.copy()"
      ],
      "metadata": {
        "id": "K9O3Kw6eJtXJ"
      },
      "execution_count": 21,
      "outputs": []
    },
    {
      "cell_type": "markdown",
      "source": [
        "## Model\n",
        "\n",
        "Build several regression models with log_price as the target.\n",
        "\n"
      ],
      "metadata": {
        "id": "XuY3AdMDNCbr"
      }
    },
    {
      "cell_type": "code",
      "source": [
        "# Assume df is already filtered and cleaned\n",
        "X = df_final[numeric_features + ordinal_features]\n",
        "y = df_final['log_price']\n",
        "\n",
        "X_train, X_test, y_train, y_test = train_test_split(X, y, test_size=0.3, random_state=42)"
      ],
      "metadata": {
        "id": "Vwn-tj_QNNTy"
      },
      "execution_count": 22,
      "outputs": []
    },
    {
      "cell_type": "code",
      "source": [
        "\n",
        "# Build full pipeline: preprocessing + model\n",
        "lasso_pipe = Pipeline([\n",
        "    ('preprocessor', preprocessor),  # assumes you defined this correctly below\n",
        "    ('model', Lasso(max_iter=5000))\n",
        "])\n",
        "\n",
        "# Define hyperparameter grid\n",
        "param_grid = {\n",
        "    'preprocessor__num__poly__degree': [1, 2, 3],  # Use correct step name 'num'\n",
        "    'model__alpha': [0.001, 0.01, 0.1, 1]\n",
        "}\n",
        "\n",
        "# Run Grid Search\n",
        "lasso_grid = GridSearchCV(\n",
        "    lasso_pipe,\n",
        "    param_grid,\n",
        "    cv=3,\n",
        "    scoring='neg_root_mean_squared_error',\n",
        "    n_jobs=-1,\n",
        "    return_train_score=True\n",
        ")\n",
        "\n",
        "lasso_grid.fit(X_train, y_train)\n",
        "\n",
        "# Output best results\n",
        "print(\"✅ Best Hyperparameters:\", lasso_grid.best_params_)\n",
        "print(\"📉 Best RMSE:\", round(-lasso_grid.best_score_, 2))\n",
        "\n",
        "# Heatmap of RMSE\n",
        "results = lasso_grid.cv_results_\n",
        "degrees = param_grid['preprocessor__num__poly__degree']\n",
        "alphas = param_grid['model__alpha']\n",
        "rmse = -results['mean_test_score']\n",
        "rmse_matrix = np.array(rmse).reshape(len(degrees), len(alphas))\n",
        "\n",
        "plt.figure(figsize=(8, 6))\n",
        "sns.heatmap(rmse_matrix, annot=True, xticklabels=alphas, yticklabels=degrees, cmap=\"YlGnBu\")\n",
        "plt.xlabel(\"Lasso Alpha\")\n",
        "plt.ylabel(\"Polynomial Degree\")\n",
        "plt.title(\"Lasso Regression RMSE (lower is better)\")\n",
        "plt.tight_layout()\n",
        "plt.savefig(f\"{save_path}/lasso_rmse_heatmap.png\")\n",
        "plt.close()\n"
      ],
      "metadata": {
        "colab": {
          "base_uri": "https://localhost:8080/"
        },
        "id": "Op_c86FWv2fA",
        "outputId": "503465bb-ae4d-4f5f-ee36-18b976572ec0"
      },
      "execution_count": 31,
      "outputs": [
        {
          "output_type": "stream",
          "name": "stdout",
          "text": [
            "✅ Best Hyperparameters: {'model__alpha': 0.001, 'preprocessor__num__poly__degree': 2}\n",
            "📉 Best RMSE: 0.48\n"
          ]
        }
      ]
    },
    {
      "cell_type": "code",
      "source": [
        "# Predict using the best model\n",
        "y_pred_lasso = lasso_grid.best_estimator_.predict(X_test)\n",
        "\n",
        "# Calculate metrics\n",
        "rmse_lasso = mean_squared_error(y_test, y_pred_lasso)\n",
        "r2_lasso = r2_score(y_test, y_pred_lasso)\n",
        "\n",
        "# Print results\n",
        "print(f\"📊 Lasso Test RMSE: {rmse_lasso:.2f}\")\n",
        "print(f\"📈 Lasso Test R2: {r2_lasso:.3f}\")\n",
        "\n",
        "# ----------------------------\n",
        "# 📉 Plot 1: Actual vs Predicted\n",
        "plt.figure(figsize=(6, 6))\n",
        "sns.scatterplot(x=y_test, y=y_pred_lasso, alpha=0.4)\n",
        "plt.plot([y_test.min(), y_test.max()], [y_test.min(), y_test.max()], '--r', label=\"Perfect Prediction\")\n",
        "plt.xlabel(\"Actual Price\")\n",
        "plt.ylabel(\"Predicted Price\")\n",
        "plt.title(\"Lasso Regression: Actual vs Predicted\")\n",
        "plt.legend()\n",
        "plt.tight_layout()\n",
        "plt.savefig(f\"{save_path}/lasso_actual_vs_predicted.png\")\n",
        "plt.close()\n",
        "\n",
        "# ----------------------------\n",
        "# 📊 Plot 2: Residuals Plot\n",
        "residuals = y_test - y_pred_lasso\n",
        "plt.figure(figsize=(6, 4))\n",
        "sns.histplot(residuals, bins=50, kde=True)\n",
        "plt.axvline(0, color='red', linestyle='--')\n",
        "plt.title(\"Lasso Regression: Residuals Distribution\")\n",
        "plt.xlabel(\"Residual (Actual - Predicted)\")\n",
        "plt.tight_layout()\n",
        "plt.savefig(f\"{save_path}/lasso_residuals.png\")\n",
        "plt.close()"
      ],
      "metadata": {
        "colab": {
          "base_uri": "https://localhost:8080/"
        },
        "id": "1fKUKXJpwsu_",
        "outputId": "feaa4122-e445-4866-bc9a-1069d3ab66d6"
      },
      "execution_count": 33,
      "outputs": [
        {
          "output_type": "stream",
          "name": "stdout",
          "text": [
            "📊 Lasso Test RMSE: 0.23\n",
            "📈 Lasso Test R2: 0.553\n"
          ]
        }
      ]
    },
    {
      "cell_type": "code",
      "source": [
        "# Extract the fitted preprocessor and model from the best pipeline\n",
        "best_pipeline = lasso_grid.best_estimator_\n",
        "preprocessor = best_pipeline.named_steps['preprocessor']\n",
        "model = best_pipeline.named_steps['model']\n",
        "\n",
        "# Get feature names from numeric pipeline (poly features)\n",
        "numeric_features_trans = preprocessor.named_transformers_['num']\n",
        "numeric_feature_names = numeric_features_trans.named_steps['poly'].get_feature_names_out(numeric_features)\n",
        "\n",
        "# Get feature names from ordinal pipeline\n",
        "ordinal_features_trans = preprocessor.named_transformers_['ord']\n",
        "ordinal_feature_names = ordinal_features  # ordinal encoding doesn't rename features\n",
        "\n",
        "# Combine all feature names\n",
        "all_feature_names = np.concatenate([numeric_feature_names, ordinal_feature_names])\n",
        "\n",
        "# Pair with Lasso coefficients\n",
        "coefficients = model.coef_\n",
        "coef_df = pd.DataFrame({\n",
        "    'Feature': all_feature_names,\n",
        "    'Coefficient': coefficients\n",
        "})\n",
        "\n",
        "# Sort by absolute coefficient value\n",
        "coef_df['AbsCoefficient'] = coef_df['Coefficient'].abs()\n",
        "coef_df_sorted = coef_df.sort_values(by='AbsCoefficient', ascending=False).drop(columns='AbsCoefficient')\n",
        "\n",
        "# Display top features\n",
        "print(\"🔍 Top Features by Importance (Lasso Coefficients):\")\n",
        "print(coef_df_sorted.head(15))\n",
        "\n",
        "# Optional: Save to CSV\n",
        "# coef_df_sorted.to_csv(\"images/lasso_feature_coefficients.csv\", index=False)"
      ],
      "metadata": {
        "colab": {
          "base_uri": "https://localhost:8080/"
        },
        "id": "2Rq2dVmhxJ6b",
        "outputId": "66287e5f-c548-4a9e-9099-c1389de31fae"
      },
      "execution_count": 34,
      "outputs": [
        {
          "output_type": "stream",
          "name": "stdout",
          "text": [
            "🔍 Top Features by Importance (Lasso Coefficients):\n",
            "                     Feature  Coefficient\n",
            "4   car_age mileage_per_year    -0.263291\n",
            "1                    car_age    -0.222956\n",
            "8               title_status     0.184820\n",
            "12                      fuel     0.115398\n",
            "2           mileage_per_year     0.082588\n",
            "14                     drive     0.082006\n",
            "13              transmission    -0.068604\n",
            "11        manufacturer_group     0.061824\n",
            "3                  car_age^2    -0.056406\n",
            "7                  cylinders     0.046184\n",
            "6                  condition    -0.037139\n",
            "9                       type    -0.018235\n",
            "10               paint_color     0.002906\n",
            "5         mileage_per_year^2    -0.000000\n",
            "0                          1     0.000000\n"
          ]
        }
      ]
    },
    {
      "cell_type": "code",
      "source": [
        "# Linear Regression Model\n",
        "# Linear regression pipeline (same preprocessor as Lasso)\n",
        "linear_pipe = Pipeline([\n",
        "    ('preprocessor', preprocessor),  # preprocessor includes poly step in numeric\n",
        "    ('model', LinearRegression())\n",
        "])\n",
        "# Hyperparameter grid for polynomial degree\n",
        "param_grid = {\n",
        "    'preprocessor__num__poly__degree': [1, 2, 3]\n",
        "}\n",
        "\n",
        "# Grid search for Linear Regression (no regularization)\n",
        "grid_linear = GridSearchCV(\n",
        "    linear_pipe,\n",
        "    param_grid,\n",
        "    cv=3,\n",
        "    scoring='neg_root_mean_squared_error',\n",
        "    return_train_score=True,\n",
        "    n_jobs=-1\n",
        ")\n",
        "\n",
        "grid_linear.fit(X_train, y_train)\n",
        "\n",
        "# Best model\n",
        "best_linear = grid_linear.best_estimator_\n",
        "y_pred = best_linear.predict(X_test)\n",
        "\n",
        "# Evaluation\n",
        "rmse = mean_squared_error(y_test, y_pred)\n",
        "r2 = r2_score(y_test, y_pred)\n",
        "print(f\"📊 Best Degree: {grid_linear.best_params_['preprocessor__num__poly__degree']}\")\n",
        "print(f\"📉 Linear RMSE: {rmse:.2f}, R²: {r2:.4f}\")\n",
        "\n",
        "# ----------------------------\n",
        "# 📈 Plot 1: Linear Regression Actual vs Predicted\n",
        "plt.figure(figsize=(6, 6))\n",
        "sns.scatterplot(x=y_test, y=y_pred, alpha=0.4)\n",
        "plt.plot([y_test.min(), y_test.max()], [y_test.min(), y_test.max()], '--r', label=\"Perfect Prediction\")\n",
        "plt.xlabel(\"Actual Price\")\n",
        "plt.ylabel(\"Predicted Price\")\n",
        "plt.title(\"Linear Regression: Actual vs Predicted\")\n",
        "plt.legend()\n",
        "plt.tight_layout()\n",
        "plt.savefig(f\"{save_path}/linear_actual_vs_predicted.png\")\n",
        "plt.close()\n",
        "\n",
        "# ----------------------------\n",
        "# 📉 Plot 2: Linear Regression Residuals\n",
        "residuals = y_test - y_pred\n",
        "plt.figure(figsize=(6, 4))\n",
        "sns.histplot(residuals, bins=50, kde=True)\n",
        "plt.axvline(0, color='red', linestyle='--')\n",
        "plt.title(\"Linear Regression: Residuals Distribution\")\n",
        "plt.xlabel(\"Residual (Actual - Predicted)\")\n",
        "plt.tight_layout()\n",
        "plt.savefig(f\"{save_path}/linear_residuals.png\")\n",
        "plt.close()\n",
        "\n",
        "# ----------------------------\n",
        "# 📊 Plot 3: Linear Regression Degree vs RMSE\n",
        "degrees = param_grid['preprocessor__num__poly__degree']\n",
        "mean_rmse = -grid_linear.cv_results_['mean_test_score']\n",
        "plt.figure(figsize=(6, 4))\n",
        "plt.plot(degrees, mean_rmse, marker='o', linestyle='--')\n",
        "plt.title(\"Linear Regression: Polynomial Degree vs RMSE\")\n",
        "plt.xlabel(\"Polynomial Degree\")\n",
        "plt.ylabel(\"Cross-Validated RMSE\")\n",
        "plt.grid(True)\n",
        "plt.tight_layout()\n",
        "plt.savefig(f\"{save_path}/linear_degree_vs_rmse.png\")\n",
        "plt.close()"
      ],
      "metadata": {
        "colab": {
          "base_uri": "https://localhost:8080/"
        },
        "id": "l86_rpoPySLp",
        "outputId": "8c6eabd9-2069-42af-fe45-13543f8c3ff6"
      },
      "execution_count": 36,
      "outputs": [
        {
          "output_type": "stream",
          "name": "stdout",
          "text": [
            "📊 Best Degree: 3\n",
            "📉 Linear RMSE: 0.23, R²: 0.5535\n"
          ]
        }
      ]
    },
    {
      "cell_type": "code",
      "source": [
        "# Get the best pipeline from GridSearchCV\n",
        "best_linear_pipeline = grid_linear.best_estimator_\n",
        "\n",
        "# Extract fitted preprocessor and linear model\n",
        "preprocessor = best_linear_pipeline.named_steps['preprocessor']\n",
        "linear_model = best_linear_pipeline.named_steps['model']\n",
        "\n",
        "# Get feature names from numeric pipeline (polynomial expanded)\n",
        "numeric_transformer = preprocessor.named_transformers_['num']\n",
        "numeric_feature_names = numeric_transformer.named_steps['poly'].get_feature_names_out(numeric_features)\n",
        "\n",
        "# Ordinal features (unchanged in name after OrdinalEncoder)\n",
        "ordinal_feature_names = ordinal_features  # if you're using ordinal categories\n",
        "\n",
        "# Combine all features\n",
        "all_feature_names = np.concatenate([numeric_feature_names, ordinal_feature_names])\n",
        "\n",
        "# Get coefficients from LinearRegression\n",
        "coefficients = linear_model.coef_\n",
        "\n",
        "# Pair them into a DataFrame\n",
        "coef_df = pd.DataFrame({\n",
        "    'Feature': all_feature_names,\n",
        "    'Coefficient': coefficients\n",
        "})\n",
        "\n",
        "# Sort by absolute value\n",
        "coef_df['AbsCoefficient'] = coef_df['Coefficient'].abs()\n",
        "coef_df_sorted = coef_df.sort_values(by='AbsCoefficient', ascending=False).drop(columns='AbsCoefficient')\n",
        "\n",
        "# Show top features\n",
        "print(\"📌 Top Features in Linear Regression:\")\n",
        "print(coef_df_sorted.head(15))\n",
        "\n"
      ],
      "metadata": {
        "colab": {
          "base_uri": "https://localhost:8080/"
        },
        "id": "D-QV6LQqzF5O",
        "outputId": "7fc05a24-3ace-4ea1-d326-a6fe031b9473"
      },
      "execution_count": 38,
      "outputs": [
        {
          "output_type": "stream",
          "name": "stdout",
          "text": [
            "📌 Top Features in Linear Regression:\n",
            "                       Feature  Coefficient\n",
            "3                    car_age^2    -0.963311\n",
            "6                    car_age^3     0.542284\n",
            "5           mileage_per_year^2     0.295482\n",
            "8   car_age mileage_per_year^2    -0.275095\n",
            "4     car_age mileage_per_year     0.212492\n",
            "12                title_status     0.192077\n",
            "2             mileage_per_year    -0.186318\n",
            "7   car_age^2 mileage_per_year    -0.159439\n",
            "16                        fuel     0.116914\n",
            "1                      car_age     0.114185\n",
            "18                       drive     0.082263\n",
            "17                transmission    -0.071233\n",
            "9           mileage_per_year^3    -0.062394\n",
            "15          manufacturer_group     0.061528\n",
            "11                   cylinders     0.046528\n"
          ]
        }
      ]
    },
    {
      "cell_type": "code",
      "source": [
        "# Sequential Feature Selector\n",
        "from sklearn.linear_model import Ridge  # more stable for feature selection\n",
        "\n",
        "# Fit preprocessing first\n",
        "X_train_preprocessed = preprocessor.fit_transform(X_train)\n",
        "\n",
        "# Use SFS to select best features\n",
        "sfs = SequentialFeatureSelector(Ridge(), n_features_to_select='auto', direction='forward', cv=3, scoring='neg_root_mean_squared_error')\n",
        "sfs.fit(X_train_preprocessed, y_train)\n",
        "\n",
        "print(\"Selected Features Mask:\", sfs.get_support())\n",
        "print(\"Number of selected features:\", sfs.n_features_in_)\n"
      ],
      "metadata": {
        "colab": {
          "base_uri": "https://localhost:8080/"
        },
        "id": "Qk7dCA5iekf_",
        "outputId": "d6048f2c-23c2-4584-b2bd-ab211adeff69"
      },
      "execution_count": 39,
      "outputs": [
        {
          "output_type": "stream",
          "name": "stdout",
          "text": [
            "Selected Features Mask: [False  True False False  True False False False False False  True  True\n",
            "  True  True False  True  True False  True]\n",
            "Number of selected features: 19\n"
          ]
        }
      ]
    },
    {
      "cell_type": "markdown",
      "source": [
        "## Evaluation Phase\n",
        "Evaluation phase of the CRISP-DM framework — and it's a crucial opportunity to assess both the technical performance and business relevance of your models."
      ],
      "metadata": {
        "id": "LQ93LQO4e0L3"
      }
    },
    {
      "cell_type": "markdown",
      "source": [
        "Certainly! Here's a concise, crisp version of your evaluation section:\n",
        "\n",
        "---\n",
        "\n",
        "### Model Evaluation and Insights\n",
        "\n",
        "We trained multiple regression models (Lasso, polynomial Linear Regression, and feature selection) and evaluated them using RMSE and R². Our best model achieved an RMSE of 0.23 and R² of 0.553 on the test set.\n",
        "\n",
        "---\n",
        "\n",
        "### Key Price Drivers\n",
        "\n",
        "* **Car Age × Mileage per Year (−0.263):** Older cars driven more reduce price sharply.\n",
        "* **Car Age (−0.223):** Older cars lower price.\n",
        "* **Title Status (+0.185):** Clean titles boost price.\n",
        "* **Fuel Type (+0.115):** Hybrids/electric add value.\n",
        "* **Mileage per Year (+0.083):** Moderate mileage isn’t penalizing.\n",
        "* **Drive Type (+0.082):** AWD/4WD increase desirability.\n",
        "* **Transmission (−0.069):** Manual lowers price.\n",
        "* **Manufacturer Group (+0.062):** Premium brands raise price.\n",
        "\n",
        "These insights align with business intuition and help optimize pricing strategies.\n",
        "\n",
        "---\n",
        "\n",
        "### Next Steps\n",
        "\n",
        "* Include high-cardinality features with advanced encoding methods.\n",
        "* Improve handling of missing or imbalanced data.\n",
        "* Experiment with better encoding for ordinal variables.\n",
        "\n",
        "---\n",
        "\n",
        "Let me know if you want it even tighter or more tailored!\n"
      ],
      "metadata": {
        "id": "ydYDtAOIfiR7"
      }
    },
    {
      "cell_type": "markdown",
      "source": [
        "\n",
        "\n",
        "## Project Summary: Used Car Price Prediction\n",
        "\n",
        "We developed a machine learning model using 260,000+ car listings to help dealers understand key price drivers and optimize inventory.\n",
        "\n",
        "**Key Insights:**\n",
        "\n",
        "* **Car Age & Mileage:** Strongest price predictors; prioritize newer, low-mileage cars.\n",
        "* **Condition:** “Like new” or “excellent” cars fetch up to 25% more.\n",
        "* **Title Status:** Clean titles add significant value; salvage/rebuilt reduce price by \\$2K–\\$4K.\n",
        "* **Vehicle Type & Brand:** SUVs and luxury brands maintain higher resale values.\n",
        "* **Transmission & Drive:** Automatics and AWD/4WD slightly boost prices.\n",
        "\n",
        "**Deliverables:**\n",
        "\n",
        "* Predictive model estimating fair market price\n",
        "* Feature importance analysis\n",
        "* Scalable preprocessing pipeline\n",
        "\n",
        "**Next Steps for Dealers:**\n",
        "\n",
        "* Use the model for trade-in evaluation and pricing\n",
        "* Focus on acquiring high-value cars (low age/mileage, clean title, SUVs/luxury brands)\n",
        "\n"
      ],
      "metadata": {
        "id": "NLggFo_Kg4Gw"
      }
    },
    {
      "cell_type": "code",
      "source": [],
      "metadata": {
        "id": "Y5e00K-jgKMP"
      },
      "execution_count": null,
      "outputs": []
    },
    {
      "cell_type": "code",
      "source": [],
      "metadata": {
        "id": "tYf1gKZgfMwy"
      },
      "execution_count": null,
      "outputs": []
    }
  ]
}